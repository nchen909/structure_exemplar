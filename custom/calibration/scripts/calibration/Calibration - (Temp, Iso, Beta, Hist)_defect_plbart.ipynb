{
 "cells": [
  {
   "cell_type": "markdown",
   "metadata": {},
   "source": [
    "# Calibration"
   ]
  },
  {
   "cell_type": "markdown",
   "metadata": {},
   "source": [
    "Evaluating calibration methods on convolutional neural networks."
   ]
  },
  {
   "cell_type": "code",
   "execution_count": 4,
   "metadata": {},
   "outputs": [
    {
     "name": "stderr",
     "output_type": "stream",
     "text": [
      "2023-04-16 18:05:28.079336: I tensorflow/core/platform/cpu_feature_guard.cc:193] This TensorFlow binary is optimized with oneAPI Deep Neural Network Library (oneDNN) to use the following CPU instructions in performance-critical operations:  AVX2 AVX512F AVX512_VNNI FMA\n",
      "To enable them in other operations, rebuild TensorFlow with the appropriate compiler flags.\n",
      "2023-04-16 18:05:28.226598: I tensorflow/core/util/port.cc:104] oneDNN custom operations are on. You may see slightly different numerical results due to floating-point round-off errors from different computation orders. To turn them off, set the environment variable `TF_ENABLE_ONEDNN_OPTS=0`.\n",
      "2023-04-16 18:05:29.079913: W tensorflow/compiler/xla/stream_executor/platform/default/dso_loader.cc:64] Could not load dynamic library 'libnvinfer.so.7'; dlerror: libnvinfer.so.7: cannot open shared object file: No such file or directory\n",
      "2023-04-16 18:05:29.079990: W tensorflow/compiler/xla/stream_executor/platform/default/dso_loader.cc:64] Could not load dynamic library 'libnvinfer_plugin.so.7'; dlerror: libnvinfer_plugin.so.7: cannot open shared object file: No such file or directory\n",
      "2023-04-16 18:05:29.079996: W tensorflow/compiler/tf2tensorrt/utils/py_utils.cc:38] TF-TRT Warning: Cannot dlopen some TensorRT libraries. If you would like to use Nvidia GPU with TensorRT, please make sure the missing libraries mentioned above are installed properly.\n"
     ]
    }
   ],
   "source": [
    "import numpy as np\n",
    "import pandas as pd\n",
    "from betacal import BetaCalibration\n",
    "from os.path import join\n",
    "from sklearn.isotonic import IsotonicRegression\n",
    "from sklearn.linear_model import LogisticRegression\n",
    "from cal_methods import HistogramBinning, TemperatureScaling, evaluate, cal_results"
   ]
  },
  {
   "cell_type": "markdown",
   "metadata": {},
   "source": [
    "## Calibration approaches"
   ]
  },
  {
   "cell_type": "markdown",
   "metadata": {},
   "source": [
    "#### 1-vs-K calibration\n",
    "Histogram binning, isotonic regression and beta calibration are calibrated in 1-vs-K fashion. This means K different models are trained for K classes, so 1 model for each class\n",
    "#### Multiclass calibration\n",
    "Temperature scaling calibrates one model for all the classes together."
   ]
  },
  {
   "cell_type": "markdown",
   "metadata": {},
   "source": [
    "## Calibration of Predictions."
   ]
  },
  {
   "cell_type": "markdown",
   "metadata": {},
   "source": [
    "Paths to files with logits."
   ]
  },
  {
   "cell_type": "code",
   "execution_count": 50,
   "metadata": {},
   "outputs": [],
   "source": [
    "PATH = join('..', '..', 'logits')\n",
    "files_10 = ('probs_resnet_wide32_c10_logits.p', 'probs_densenet40_c10_logits.p',\n",
    "            'probs_lenet5_c10_logits.p', 'probs_resnet110_SD_c10_logits.p',\n",
    "           'probs_resnet110_c10_logits.p', 'probs_resnet152_SD_SVHN_logits.p')\n",
    "files_100 = ('probs_resnet_wide32_c100_logits.p', 'probs_densenet40_c100_logits.p',\n",
    "             'probs_lenet5_c100_logits.p', 'probs_resnet110_SD_c100_logits.p')\n",
    "files_200 = ('probs_resnet50_birds_logits.p',)\n",
    "files_1k = ('probs_resnet152_imgnet_logits.p', 'probs_densenet161_imgnet_logits.p')\n",
    "\n",
    "files = ('probs_resnet110_c10_logits.p', 'probs_resnet110_c100_logits.p', \n",
    "         'probs_densenet40_c10_logits.p', 'probs_densenet40_c100_logits.p',\n",
    "        'probs_resnet_wide32_c10_logits.p', 'probs_resnet_wide32_c100_logits.p',\n",
    "         'probs_resnet50_birds_logits.p', 'probs_resnet110_SD_c10_logits.p',\n",
    "         'probs_resnet110_SD_c100_logits.p', 'probs_resnet152_SD_SVHN_logits.p',\n",
    "        'probs_resnet152_imgnet_logits.p', 'probs_densenet161_imgnet_logits.p'  # ImageNet calibration takes rather long time.\n",
    "        )\n"
   ]
  },
  {
   "cell_type": "code",
   "execution_count": 34,
   "metadata": {},
   "outputs": [],
   "source": [
    "PATH = join('/root/autodl-tmp/HugCode/custom/calibration', 'logits')\n",
    "files = ('/root/autodl-tmp/HugCode/custom/calibration/logits/probs_defect-plbart_c10_logits.p',\n",
    ")"
   ]
  },
  {
   "cell_type": "code",
   "execution_count": 33,
   "metadata": {},
   "outputs": [
    {
     "name": "stdout",
     "output_type": "stream",
     "text": [
      "defect-plbart_c10\n",
      "defect-plbart_c10\n",
      "/root/autodl-tmp/HugCode/custom/calibration/logits/probs_defect-plbart_c10_logits.p\n"
     ]
    }
   ],
   "source": [
    "for i, f in enumerate(files):\n",
    "        \n",
    "        name = \"_\".join(f.split(\"_\")[1:-1])\n",
    "        print(name)\n",
    "        print(\"_\".join(f.split(\"_\")[1:-1]))\n",
    "        FILE_PATH = join(PATH, f)\n",
    "        print(FILE_PATH)"
   ]
  },
  {
   "cell_type": "markdown",
   "metadata": {},
   "source": [
    "### Isotonic Regression"
   ]
  },
  {
   "cell_type": "code",
   "execution_count": 35,
   "metadata": {
    "scrolled": true
   },
   "outputs": [
    {
     "name": "stdout",
     "output_type": "stream",
     "text": [
      "defect-plbart_c10\n",
      "defect-plbart_c10\n",
      "/root/autodl-tmp/HugCode/custom/calibration/logits/probs_defect-plbart_c10_logits.p\n",
      "Accuracy: 61.420204978038065\n",
      "Error: 38.579795021961935\n",
      "ECE: 0.09112956188346419\n",
      "MCE: 0.27074009366333485\n",
      "Loss: 0.69994050441078\n",
      "brier: 0.41303374251895664\n",
      "Error 37.115666; ece 0.000085; mce 0.003919; loss 0.645115, brier 0.338703\n",
      "Time taken: 0.8089797496795654 \n",
      "\n",
      "Total time taken: 0.8090527057647705\n"
     ]
    }
   ],
   "source": [
    "df_iso = cal_results(IsotonicRegression, PATH, files, {'y_min':0, 'y_max':1}, approach = \"single\")"
   ]
  },
  {
   "cell_type": "markdown",
   "metadata": {},
   "source": [
    "### Temperature scaling"
   ]
  },
  {
   "cell_type": "code",
   "execution_count": 36,
   "metadata": {
    "scrolled": true
   },
   "outputs": [
    {
     "name": "stdout",
     "output_type": "stream",
     "text": [
      "defect-plbart_c10\n",
      "defect-plbart_c10\n",
      "/root/autodl-tmp/HugCode/custom/calibration/logits/probs_defect-plbart_c10_logits.p\n",
      "Accuracy: 61.420204978038065\n",
      "Error: 38.579795021961935\n",
      "ECE: 0.09112956188346419\n",
      "MCE: 0.27074009366333485\n",
      "Loss: 0.69994050441078\n",
      "brier: 0.41303374251895664\n",
      "Error 37.481698; ece 0.005603; mce 0.022184; loss 0.650637, brier 0.338456\n",
      "Time taken: 0.830618143081665 \n",
      "\n",
      "Total time taken: 0.8306975364685059\n"
     ]
    }
   ],
   "source": [
    "df_temp_scale = cal_results(TemperatureScaling, PATH, files, approach = \"all\")"
   ]
  },
  {
   "cell_type": "markdown",
   "metadata": {},
   "source": [
    "### Beta methods"
   ]
  },
  {
   "cell_type": "code",
   "execution_count": 38,
   "metadata": {
    "scrolled": true
   },
   "outputs": [
    {
     "name": "stdout",
     "output_type": "stream",
     "text": [
      "defect-plbart_c10\n",
      "defect-plbart_c10\n",
      "/root/autodl-tmp/HugCode/custom/calibration/logits/probs_defect-plbart_c10_logits.p\n",
      "Accuracy: 61.420204978038065\n",
      "Error: 38.579795021961935\n",
      "ECE: 0.09112956188346419\n",
      "MCE: 0.27074009366333485\n",
      "Loss: 0.69994050441078\n",
      "brier: 0.41303374251895664\n",
      "Error 37.335286; ece 0.007569; mce 0.045946; loss 0.650608, brier 0.336263\n",
      "Time taken: 0.8321552276611328 \n",
      "\n",
      "Total time taken: 0.8325567245483398\n"
     ]
    }
   ],
   "source": [
    "df_beta = cal_results(BetaCalibration, PATH, files, {'parameters':\"abm\"}, approach = \"single\")"
   ]
  },
  {
   "cell_type": "code",
   "execution_count": 39,
   "metadata": {
    "scrolled": true
   },
   "outputs": [
    {
     "name": "stdout",
     "output_type": "stream",
     "text": [
      "defect-plbart_c10\n",
      "defect-plbart_c10\n",
      "/root/autodl-tmp/HugCode/custom/calibration/logits/probs_defect-plbart_c10_logits.p\n",
      "Accuracy: 61.420204978038065\n",
      "Error: 38.579795021961935\n",
      "ECE: 0.09112956188346419\n",
      "MCE: 0.27074009366333485\n",
      "Loss: 0.69994050441078\n",
      "brier: 0.41303374251895664\n",
      "Error 37.298682; ece 0.009332; mce 0.022767; loss 0.650624, brier 0.336268\n",
      "Time taken: 0.8198106288909912 \n",
      "\n",
      "Total time taken: 0.8201992511749268\n"
     ]
    }
   ],
   "source": [
    "df_beta_am = cal_results(BetaCalibration, PATH, files, {'parameters':\"am\"}, approach = \"single\")"
   ]
  },
  {
   "cell_type": "code",
   "execution_count": 40,
   "metadata": {
    "scrolled": true
   },
   "outputs": [
    {
     "name": "stdout",
     "output_type": "stream",
     "text": [
      "defect-plbart_c10\n",
      "defect-plbart_c10\n",
      "/root/autodl-tmp/HugCode/custom/calibration/logits/probs_defect-plbart_c10_logits.p\n",
      "Accuracy: 61.420204978038065\n",
      "Error: 38.579795021961935\n",
      "ECE: 0.09112956188346419\n",
      "MCE: 0.27074009366333485\n",
      "Loss: 0.69994050441078\n",
      "brier: 0.41303374251895664\n",
      "Error 37.481698; ece 0.006204; mce 0.026876; loss 0.650637, brier 0.338304\n",
      "Time taken: 0.8262889385223389 \n",
      "\n",
      "Total time taken: 0.8271839618682861\n"
     ]
    }
   ],
   "source": [
    "df_beta_ab = cal_results(BetaCalibration, PATH, files, {'parameters':\"ab\"}, approach = \"single\")"
   ]
  },
  {
   "cell_type": "markdown",
   "metadata": {},
   "source": [
    "### Histogram binning"
   ]
  },
  {
   "cell_type": "code",
   "execution_count": 41,
   "metadata": {
    "scrolled": true
   },
   "outputs": [
    {
     "name": "stdout",
     "output_type": "stream",
     "text": [
      "defect-plbart_c10\n",
      "defect-plbart_c10\n",
      "/root/autodl-tmp/HugCode/custom/calibration/logits/probs_defect-plbart_c10_logits.p\n",
      "Accuracy: 61.420204978038065\n",
      "Error: 38.579795021961935\n",
      "ECE: 0.09112956188346419\n",
      "MCE: 0.27074009366333485\n",
      "Loss: 0.69994050441078\n",
      "brier: 0.41303374251895664\n",
      "Error 37.335286; ece 0.000000; mce 0.000000; loss 0.649044, brier 0.337015\n",
      "Time taken: 1.0744285583496094 \n",
      "\n",
      "Total time taken: 1.0745718479156494\n"
     ]
    }
   ],
   "source": [
    "df_hb = cal_results(HistogramBinning, PATH, files, {'M':15}, approach = \"single\")"
   ]
  },
  {
   "cell_type": "markdown",
   "metadata": {},
   "source": [
    "#### Calibrated scores for Defect plbart."
   ]
  },
  {
   "cell_type": "code",
   "execution_count": 42,
   "metadata": {},
   "outputs": [
    {
     "data": {
      "text/html": [
       "<div>\n",
       "<style scoped>\n",
       "    .dataframe tbody tr th:only-of-type {\n",
       "        vertical-align: middle;\n",
       "    }\n",
       "\n",
       "    .dataframe tbody tr th {\n",
       "        vertical-align: top;\n",
       "    }\n",
       "\n",
       "    .dataframe thead th {\n",
       "        text-align: right;\n",
       "    }\n",
       "</style>\n",
       "<table border=\"1\" class=\"dataframe\">\n",
       "  <thead>\n",
       "    <tr style=\"text-align: right;\">\n",
       "      <th></th>\n",
       "      <th>Name</th>\n",
       "      <th>Error</th>\n",
       "      <th>ECE</th>\n",
       "      <th>MCE</th>\n",
       "      <th>Loss</th>\n",
       "      <th>Brier</th>\n",
       "    </tr>\n",
       "  </thead>\n",
       "  <tbody>\n",
       "    <tr>\n",
       "      <th>0</th>\n",
       "      <td>defect-plbart_c10</td>\n",
       "      <td>38.579795</td>\n",
       "      <td>0.091130</td>\n",
       "      <td>0.27074</td>\n",
       "      <td>0.699941</td>\n",
       "      <td>0.413034</td>\n",
       "    </tr>\n",
       "    <tr>\n",
       "      <th>1</th>\n",
       "      <td>defect-plbart_c10_calib</td>\n",
       "      <td>38.543192</td>\n",
       "      <td>0.025955</td>\n",
       "      <td>0.20000</td>\n",
       "      <td>0.674055</td>\n",
       "      <td>0.338062</td>\n",
       "    </tr>\n",
       "  </tbody>\n",
       "</table>\n",
       "</div>"
      ],
      "text/plain": [
       "                      Name      Error       ECE      MCE      Loss     Brier\n",
       "0        defect-plbart_c10  38.579795  0.091130  0.27074  0.699941  0.413034\n",
       "1  defect-plbart_c10_calib  38.543192  0.025955  0.20000  0.674055  0.338062"
      ]
     },
     "execution_count": 42,
     "metadata": {},
     "output_type": "execute_result"
    }
   ],
   "source": [
    "df_iso"
   ]
  },
  {
   "cell_type": "code",
   "execution_count": 43,
   "metadata": {},
   "outputs": [
    {
     "data": {
      "text/html": [
       "<div>\n",
       "<style scoped>\n",
       "    .dataframe tbody tr th:only-of-type {\n",
       "        vertical-align: middle;\n",
       "    }\n",
       "\n",
       "    .dataframe tbody tr th {\n",
       "        vertical-align: top;\n",
       "    }\n",
       "\n",
       "    .dataframe thead th {\n",
       "        text-align: right;\n",
       "    }\n",
       "</style>\n",
       "<table border=\"1\" class=\"dataframe\">\n",
       "  <thead>\n",
       "    <tr style=\"text-align: right;\">\n",
       "      <th></th>\n",
       "      <th>Name</th>\n",
       "      <th>Error</th>\n",
       "      <th>ECE</th>\n",
       "      <th>MCE</th>\n",
       "      <th>Loss</th>\n",
       "      <th>Brier</th>\n",
       "    </tr>\n",
       "  </thead>\n",
       "  <tbody>\n",
       "    <tr>\n",
       "      <th>0</th>\n",
       "      <td>defect-plbart_c10</td>\n",
       "      <td>38.579795</td>\n",
       "      <td>0.091130</td>\n",
       "      <td>0.270740</td>\n",
       "      <td>0.699941</td>\n",
       "      <td>0.413034</td>\n",
       "    </tr>\n",
       "    <tr>\n",
       "      <th>1</th>\n",
       "      <td>defect-plbart_c10_calib</td>\n",
       "      <td>38.579795</td>\n",
       "      <td>0.032573</td>\n",
       "      <td>0.048307</td>\n",
       "      <td>0.664840</td>\n",
       "      <td>0.339320</td>\n",
       "    </tr>\n",
       "  </tbody>\n",
       "</table>\n",
       "</div>"
      ],
      "text/plain": [
       "                      Name      Error       ECE       MCE      Loss     Brier\n",
       "0        defect-plbart_c10  38.579795  0.091130  0.270740  0.699941  0.413034\n",
       "1  defect-plbart_c10_calib  38.579795  0.032573  0.048307  0.664840  0.339320"
      ]
     },
     "execution_count": 43,
     "metadata": {},
     "output_type": "execute_result"
    }
   ],
   "source": [
    "df_temp_scale"
   ]
  },
  {
   "cell_type": "code",
   "execution_count": 44,
   "metadata": {},
   "outputs": [
    {
     "data": {
      "text/html": [
       "<div>\n",
       "<style scoped>\n",
       "    .dataframe tbody tr th:only-of-type {\n",
       "        vertical-align: middle;\n",
       "    }\n",
       "\n",
       "    .dataframe tbody tr th {\n",
       "        vertical-align: top;\n",
       "    }\n",
       "\n",
       "    .dataframe thead th {\n",
       "        text-align: right;\n",
       "    }\n",
       "</style>\n",
       "<table border=\"1\" class=\"dataframe\">\n",
       "  <thead>\n",
       "    <tr style=\"text-align: right;\">\n",
       "      <th></th>\n",
       "      <th>Name</th>\n",
       "      <th>Error</th>\n",
       "      <th>ECE</th>\n",
       "      <th>MCE</th>\n",
       "      <th>Loss</th>\n",
       "      <th>Brier</th>\n",
       "    </tr>\n",
       "  </thead>\n",
       "  <tbody>\n",
       "    <tr>\n",
       "      <th>0</th>\n",
       "      <td>defect-plbart_c10</td>\n",
       "      <td>38.579795</td>\n",
       "      <td>0.091130</td>\n",
       "      <td>0.270740</td>\n",
       "      <td>0.699941</td>\n",
       "      <td>0.413034</td>\n",
       "    </tr>\n",
       "    <tr>\n",
       "      <th>1</th>\n",
       "      <td>defect-plbart_c10_calib</td>\n",
       "      <td>38.616398</td>\n",
       "      <td>0.038413</td>\n",
       "      <td>0.048747</td>\n",
       "      <td>0.664914</td>\n",
       "      <td>0.337125</td>\n",
       "    </tr>\n",
       "  </tbody>\n",
       "</table>\n",
       "</div>"
      ],
      "text/plain": [
       "                      Name      Error       ECE       MCE      Loss     Brier\n",
       "0        defect-plbart_c10  38.579795  0.091130  0.270740  0.699941  0.413034\n",
       "1  defect-plbart_c10_calib  38.616398  0.038413  0.048747  0.664914  0.337125"
      ]
     },
     "execution_count": 44,
     "metadata": {},
     "output_type": "execute_result"
    }
   ],
   "source": [
    "df_beta"
   ]
  },
  {
   "cell_type": "code",
   "execution_count": 45,
   "metadata": {},
   "outputs": [
    {
     "data": {
      "text/html": [
       "<div>\n",
       "<style scoped>\n",
       "    .dataframe tbody tr th:only-of-type {\n",
       "        vertical-align: middle;\n",
       "    }\n",
       "\n",
       "    .dataframe tbody tr th {\n",
       "        vertical-align: top;\n",
       "    }\n",
       "\n",
       "    .dataframe thead th {\n",
       "        text-align: right;\n",
       "    }\n",
       "</style>\n",
       "<table border=\"1\" class=\"dataframe\">\n",
       "  <thead>\n",
       "    <tr style=\"text-align: right;\">\n",
       "      <th></th>\n",
       "      <th>Name</th>\n",
       "      <th>Error</th>\n",
       "      <th>ECE</th>\n",
       "      <th>MCE</th>\n",
       "      <th>Loss</th>\n",
       "      <th>Brier</th>\n",
       "    </tr>\n",
       "  </thead>\n",
       "  <tbody>\n",
       "    <tr>\n",
       "      <th>0</th>\n",
       "      <td>defect-plbart_c10</td>\n",
       "      <td>38.579795</td>\n",
       "      <td>0.091130</td>\n",
       "      <td>0.270740</td>\n",
       "      <td>0.699941</td>\n",
       "      <td>0.413034</td>\n",
       "    </tr>\n",
       "    <tr>\n",
       "      <th>1</th>\n",
       "      <td>defect-plbart_c10_calib</td>\n",
       "      <td>38.653001</td>\n",
       "      <td>0.035713</td>\n",
       "      <td>0.047697</td>\n",
       "      <td>0.664649</td>\n",
       "      <td>0.337137</td>\n",
       "    </tr>\n",
       "  </tbody>\n",
       "</table>\n",
       "</div>"
      ],
      "text/plain": [
       "                      Name      Error       ECE       MCE      Loss     Brier\n",
       "0        defect-plbart_c10  38.579795  0.091130  0.270740  0.699941  0.413034\n",
       "1  defect-plbart_c10_calib  38.653001  0.035713  0.047697  0.664649  0.337137"
      ]
     },
     "execution_count": 45,
     "metadata": {},
     "output_type": "execute_result"
    }
   ],
   "source": [
    "df_beta_am"
   ]
  },
  {
   "cell_type": "code",
   "execution_count": 46,
   "metadata": {},
   "outputs": [
    {
     "data": {
      "text/html": [
       "<div>\n",
       "<style scoped>\n",
       "    .dataframe tbody tr th:only-of-type {\n",
       "        vertical-align: middle;\n",
       "    }\n",
       "\n",
       "    .dataframe tbody tr th {\n",
       "        vertical-align: top;\n",
       "    }\n",
       "\n",
       "    .dataframe thead th {\n",
       "        text-align: right;\n",
       "    }\n",
       "</style>\n",
       "<table border=\"1\" class=\"dataframe\">\n",
       "  <thead>\n",
       "    <tr style=\"text-align: right;\">\n",
       "      <th></th>\n",
       "      <th>Name</th>\n",
       "      <th>Error</th>\n",
       "      <th>ECE</th>\n",
       "      <th>MCE</th>\n",
       "      <th>Loss</th>\n",
       "      <th>Brier</th>\n",
       "    </tr>\n",
       "  </thead>\n",
       "  <tbody>\n",
       "    <tr>\n",
       "      <th>0</th>\n",
       "      <td>defect-plbart_c10</td>\n",
       "      <td>38.579795</td>\n",
       "      <td>0.091130</td>\n",
       "      <td>0.270740</td>\n",
       "      <td>0.699941</td>\n",
       "      <td>0.413034</td>\n",
       "    </tr>\n",
       "    <tr>\n",
       "      <th>1</th>\n",
       "      <td>defect-plbart_c10_calib</td>\n",
       "      <td>38.579795</td>\n",
       "      <td>0.032531</td>\n",
       "      <td>0.048185</td>\n",
       "      <td>0.664813</td>\n",
       "      <td>0.339169</td>\n",
       "    </tr>\n",
       "  </tbody>\n",
       "</table>\n",
       "</div>"
      ],
      "text/plain": [
       "                      Name      Error       ECE       MCE      Loss     Brier\n",
       "0        defect-plbart_c10  38.579795  0.091130  0.270740  0.699941  0.413034\n",
       "1  defect-plbart_c10_calib  38.579795  0.032531  0.048185  0.664813  0.339169"
      ]
     },
     "execution_count": 46,
     "metadata": {},
     "output_type": "execute_result"
    }
   ],
   "source": [
    "df_beta_ab"
   ]
  },
  {
   "cell_type": "markdown",
   "metadata": {},
   "source": [
    "## Dataframe with results "
   ]
  },
  {
   "cell_type": "code",
   "execution_count": 48,
   "metadata": {},
   "outputs": [],
   "source": [
    "dfs = [df_hb, df_iso, df_temp_scale, df_beta, df_beta_am, df_beta_ab]\n",
    "names = [\"Name\", \"Uncalibrated\", \"Histogram Binning\", \"Isotonic Regression\", \"Temperature Scaling\", \"Beta Calibration\",\n",
    "        \"BC am\", \"BC ab\"]\n",
    "\n",
    "\n",
    "def get_dataframe(dfs, column, names):\n",
    "\n",
    "    df_res = pd.DataFrame(columns=names)\n",
    "\n",
    "    for i in range(1, len(df_iso), 2):\n",
    "\n",
    "        name = dfs[0].iloc[i-1][\"Name\"] # Get name of method\n",
    "        uncalibrated = dfs[0].iloc[i-1][column]  # Get uncalibrated score\n",
    "\n",
    "        row = [name, uncalibrated]  # Add scores to row\n",
    "\n",
    "        for df in dfs:\n",
    "            row.append(df.iloc[i][column])\n",
    "\n",
    "        df_res.loc[(i-1)//2] = row\n",
    "        #errordf.iloc[i]\n",
    "    \n",
    "    df_res.set_index('Name', inplace = True)\n",
    "        \n",
    "    return df_res"
   ]
  },
  {
   "cell_type": "code",
   "execution_count": 49,
   "metadata": {
    "collapsed": true
   },
   "outputs": [],
   "source": [
    "df_error = get_dataframe(dfs, \"Error\", names)\n",
    "df_ece = get_dataframe(dfs, \"ECE\", names)\n",
    "df_mce = get_dataframe(dfs, \"MCE\", names)\n",
    "df_loss = get_dataframe(dfs, \"Loss\", names)\n",
    "df_brier = get_dataframe(dfs, \"Brier\", names)"
   ]
  },
  {
   "cell_type": "markdown",
   "metadata": {},
   "source": [
    "## Scores"
   ]
  },
  {
   "cell_type": "code",
   "execution_count": 50,
   "metadata": {
    "collapsed": true
   },
   "outputs": [],
   "source": [
    "def highlight_min(s):\n",
    "    '''\n",
    "    highlight the maximum in a Series yellow.\n",
    "    '''\n",
    "    is_max = s == s.min()\n",
    "    return ['background-color: yellow' if v else '' for v in is_max]"
   ]
  },
  {
   "cell_type": "markdown",
   "metadata": {},
   "source": [
    "## Error Rate"
   ]
  },
  {
   "cell_type": "code",
   "execution_count": 51,
   "metadata": {},
   "outputs": [
    {
     "data": {
      "text/html": [
       "<style type=\"text/css\">\n",
       "#T_be60f_row0_col2 {\n",
       "  background-color: yellow;\n",
       "}\n",
       "</style>\n",
       "<table id=\"T_be60f_\">\n",
       "  <thead>\n",
       "    <tr>\n",
       "      <th class=\"blank level0\" >&nbsp;</th>\n",
       "      <th class=\"col_heading level0 col0\" >Uncalibrated</th>\n",
       "      <th class=\"col_heading level0 col1\" >Histogram Binning</th>\n",
       "      <th class=\"col_heading level0 col2\" >Isotonic Regression</th>\n",
       "      <th class=\"col_heading level0 col3\" >Temperature Scaling</th>\n",
       "      <th class=\"col_heading level0 col4\" >Beta Calibration</th>\n",
       "      <th class=\"col_heading level0 col5\" >BC am</th>\n",
       "      <th class=\"col_heading level0 col6\" >BC ab</th>\n",
       "    </tr>\n",
       "    <tr>\n",
       "      <th class=\"index_name level0\" >Name</th>\n",
       "      <th class=\"blank col0\" >&nbsp;</th>\n",
       "      <th class=\"blank col1\" >&nbsp;</th>\n",
       "      <th class=\"blank col2\" >&nbsp;</th>\n",
       "      <th class=\"blank col3\" >&nbsp;</th>\n",
       "      <th class=\"blank col4\" >&nbsp;</th>\n",
       "      <th class=\"blank col5\" >&nbsp;</th>\n",
       "      <th class=\"blank col6\" >&nbsp;</th>\n",
       "    </tr>\n",
       "  </thead>\n",
       "  <tbody>\n",
       "    <tr>\n",
       "      <th id=\"T_be60f_level0_row0\" class=\"row_heading level0 row0\" >defect-plbart_c10</th>\n",
       "      <td id=\"T_be60f_row0_col0\" class=\"data row0 col0\" >38.579795</td>\n",
       "      <td id=\"T_be60f_row0_col1\" class=\"data row0 col1\" >40.190337</td>\n",
       "      <td id=\"T_be60f_row0_col2\" class=\"data row0 col2\" >38.543192</td>\n",
       "      <td id=\"T_be60f_row0_col3\" class=\"data row0 col3\" >38.579795</td>\n",
       "      <td id=\"T_be60f_row0_col4\" class=\"data row0 col4\" >38.616398</td>\n",
       "      <td id=\"T_be60f_row0_col5\" class=\"data row0 col5\" >38.653001</td>\n",
       "      <td id=\"T_be60f_row0_col6\" class=\"data row0 col6\" >38.579795</td>\n",
       "    </tr>\n",
       "  </tbody>\n",
       "</table>\n"
      ],
      "text/plain": [
       "<pandas.io.formats.style.Styler at 0x7f00dbf05d50>"
      ]
     },
     "execution_count": 51,
     "metadata": {},
     "output_type": "execute_result"
    }
   ],
   "source": [
    "df_error.style.apply(highlight_min, axis = 1)"
   ]
  },
  {
   "cell_type": "markdown",
   "metadata": {},
   "source": [
    "## ECE"
   ]
  },
  {
   "cell_type": "code",
   "execution_count": 52,
   "metadata": {},
   "outputs": [
    {
     "data": {
      "text/html": [
       "<style type=\"text/css\">\n",
       "#T_feb7c_row0_col2 {\n",
       "  background-color: yellow;\n",
       "}\n",
       "</style>\n",
       "<table id=\"T_feb7c_\">\n",
       "  <thead>\n",
       "    <tr>\n",
       "      <th class=\"blank level0\" >&nbsp;</th>\n",
       "      <th class=\"col_heading level0 col0\" >Uncalibrated</th>\n",
       "      <th class=\"col_heading level0 col1\" >Histogram Binning</th>\n",
       "      <th class=\"col_heading level0 col2\" >Isotonic Regression</th>\n",
       "      <th class=\"col_heading level0 col3\" >Temperature Scaling</th>\n",
       "      <th class=\"col_heading level0 col4\" >Beta Calibration</th>\n",
       "      <th class=\"col_heading level0 col5\" >BC am</th>\n",
       "      <th class=\"col_heading level0 col6\" >BC ab</th>\n",
       "    </tr>\n",
       "    <tr>\n",
       "      <th class=\"index_name level0\" >Name</th>\n",
       "      <th class=\"blank col0\" >&nbsp;</th>\n",
       "      <th class=\"blank col1\" >&nbsp;</th>\n",
       "      <th class=\"blank col2\" >&nbsp;</th>\n",
       "      <th class=\"blank col3\" >&nbsp;</th>\n",
       "      <th class=\"blank col4\" >&nbsp;</th>\n",
       "      <th class=\"blank col5\" >&nbsp;</th>\n",
       "      <th class=\"blank col6\" >&nbsp;</th>\n",
       "    </tr>\n",
       "  </thead>\n",
       "  <tbody>\n",
       "    <tr>\n",
       "      <th id=\"T_feb7c_level0_row0\" class=\"row_heading level0 row0\" >defect-plbart_c10</th>\n",
       "      <td id=\"T_feb7c_row0_col0\" class=\"data row0 col0\" >0.091130</td>\n",
       "      <td id=\"T_feb7c_row0_col1\" class=\"data row0 col1\" >0.040363</td>\n",
       "      <td id=\"T_feb7c_row0_col2\" class=\"data row0 col2\" >0.025955</td>\n",
       "      <td id=\"T_feb7c_row0_col3\" class=\"data row0 col3\" >0.032573</td>\n",
       "      <td id=\"T_feb7c_row0_col4\" class=\"data row0 col4\" >0.038413</td>\n",
       "      <td id=\"T_feb7c_row0_col5\" class=\"data row0 col5\" >0.035713</td>\n",
       "      <td id=\"T_feb7c_row0_col6\" class=\"data row0 col6\" >0.032531</td>\n",
       "    </tr>\n",
       "  </tbody>\n",
       "</table>\n"
      ],
      "text/plain": [
       "<pandas.io.formats.style.Styler at 0x7f00dbf0c410>"
      ]
     },
     "execution_count": 52,
     "metadata": {},
     "output_type": "execute_result"
    }
   ],
   "source": [
    "df_ece.style.apply(highlight_min, axis = 1)"
   ]
  },
  {
   "cell_type": "markdown",
   "metadata": {},
   "source": [
    "## MCE"
   ]
  },
  {
   "cell_type": "code",
   "execution_count": 53,
   "metadata": {},
   "outputs": [
    {
     "data": {
      "text/html": [
       "<style type=\"text/css\">\n",
       "#T_35b0d_row0_col5 {\n",
       "  background-color: yellow;\n",
       "}\n",
       "</style>\n",
       "<table id=\"T_35b0d_\">\n",
       "  <thead>\n",
       "    <tr>\n",
       "      <th class=\"blank level0\" >&nbsp;</th>\n",
       "      <th class=\"col_heading level0 col0\" >Uncalibrated</th>\n",
       "      <th class=\"col_heading level0 col1\" >Histogram Binning</th>\n",
       "      <th class=\"col_heading level0 col2\" >Isotonic Regression</th>\n",
       "      <th class=\"col_heading level0 col3\" >Temperature Scaling</th>\n",
       "      <th class=\"col_heading level0 col4\" >Beta Calibration</th>\n",
       "      <th class=\"col_heading level0 col5\" >BC am</th>\n",
       "      <th class=\"col_heading level0 col6\" >BC ab</th>\n",
       "    </tr>\n",
       "    <tr>\n",
       "      <th class=\"index_name level0\" >Name</th>\n",
       "      <th class=\"blank col0\" >&nbsp;</th>\n",
       "      <th class=\"blank col1\" >&nbsp;</th>\n",
       "      <th class=\"blank col2\" >&nbsp;</th>\n",
       "      <th class=\"blank col3\" >&nbsp;</th>\n",
       "      <th class=\"blank col4\" >&nbsp;</th>\n",
       "      <th class=\"blank col5\" >&nbsp;</th>\n",
       "      <th class=\"blank col6\" >&nbsp;</th>\n",
       "    </tr>\n",
       "  </thead>\n",
       "  <tbody>\n",
       "    <tr>\n",
       "      <th id=\"T_35b0d_level0_row0\" class=\"row_heading level0 row0\" >defect-plbart_c10</th>\n",
       "      <td id=\"T_35b0d_row0_col0\" class=\"data row0 col0\" >0.270740</td>\n",
       "      <td id=\"T_35b0d_row0_col1\" class=\"data row0 col1\" >0.070234</td>\n",
       "      <td id=\"T_35b0d_row0_col2\" class=\"data row0 col2\" >0.200000</td>\n",
       "      <td id=\"T_35b0d_row0_col3\" class=\"data row0 col3\" >0.048307</td>\n",
       "      <td id=\"T_35b0d_row0_col4\" class=\"data row0 col4\" >0.048747</td>\n",
       "      <td id=\"T_35b0d_row0_col5\" class=\"data row0 col5\" >0.047697</td>\n",
       "      <td id=\"T_35b0d_row0_col6\" class=\"data row0 col6\" >0.048185</td>\n",
       "    </tr>\n",
       "  </tbody>\n",
       "</table>\n"
      ],
      "text/plain": [
       "<pandas.io.formats.style.Styler at 0x7f00dbf173d0>"
      ]
     },
     "execution_count": 53,
     "metadata": {},
     "output_type": "execute_result"
    }
   ],
   "source": [
    "df_mce.style.apply(highlight_min, axis = 1)"
   ]
  },
  {
   "cell_type": "markdown",
   "metadata": {},
   "source": [
    "## Loss"
   ]
  },
  {
   "cell_type": "code",
   "execution_count": 54,
   "metadata": {},
   "outputs": [
    {
     "data": {
      "text/html": [
       "<style type=\"text/css\">\n",
       "#T_ffa02_row0_col5 {\n",
       "  background-color: yellow;\n",
       "}\n",
       "</style>\n",
       "<table id=\"T_ffa02_\">\n",
       "  <thead>\n",
       "    <tr>\n",
       "      <th class=\"blank level0\" >&nbsp;</th>\n",
       "      <th class=\"col_heading level0 col0\" >Uncalibrated</th>\n",
       "      <th class=\"col_heading level0 col1\" >Histogram Binning</th>\n",
       "      <th class=\"col_heading level0 col2\" >Isotonic Regression</th>\n",
       "      <th class=\"col_heading level0 col3\" >Temperature Scaling</th>\n",
       "      <th class=\"col_heading level0 col4\" >Beta Calibration</th>\n",
       "      <th class=\"col_heading level0 col5\" >BC am</th>\n",
       "      <th class=\"col_heading level0 col6\" >BC ab</th>\n",
       "    </tr>\n",
       "    <tr>\n",
       "      <th class=\"index_name level0\" >Name</th>\n",
       "      <th class=\"blank col0\" >&nbsp;</th>\n",
       "      <th class=\"blank col1\" >&nbsp;</th>\n",
       "      <th class=\"blank col2\" >&nbsp;</th>\n",
       "      <th class=\"blank col3\" >&nbsp;</th>\n",
       "      <th class=\"blank col4\" >&nbsp;</th>\n",
       "      <th class=\"blank col5\" >&nbsp;</th>\n",
       "      <th class=\"blank col6\" >&nbsp;</th>\n",
       "    </tr>\n",
       "  </thead>\n",
       "  <tbody>\n",
       "    <tr>\n",
       "      <th id=\"T_ffa02_level0_row0\" class=\"row_heading level0 row0\" >defect-plbart_c10</th>\n",
       "      <td id=\"T_ffa02_row0_col0\" class=\"data row0 col0\" >0.699941</td>\n",
       "      <td id=\"T_ffa02_row0_col1\" class=\"data row0 col1\" >0.666026</td>\n",
       "      <td id=\"T_ffa02_row0_col2\" class=\"data row0 col2\" >0.674055</td>\n",
       "      <td id=\"T_ffa02_row0_col3\" class=\"data row0 col3\" >0.664840</td>\n",
       "      <td id=\"T_ffa02_row0_col4\" class=\"data row0 col4\" >0.664914</td>\n",
       "      <td id=\"T_ffa02_row0_col5\" class=\"data row0 col5\" >0.664649</td>\n",
       "      <td id=\"T_ffa02_row0_col6\" class=\"data row0 col6\" >0.664813</td>\n",
       "    </tr>\n",
       "  </tbody>\n",
       "</table>\n"
      ],
      "text/plain": [
       "<pandas.io.formats.style.Styler at 0x7f00dbeed510>"
      ]
     },
     "execution_count": 54,
     "metadata": {},
     "output_type": "execute_result"
    }
   ],
   "source": [
    "df_loss.style.apply(highlight_min, axis = 1)"
   ]
  },
  {
   "cell_type": "markdown",
   "metadata": {},
   "source": [
    "## Brier"
   ]
  },
  {
   "cell_type": "code",
   "execution_count": 55,
   "metadata": {},
   "outputs": [
    {
     "data": {
      "text/html": [
       "<style type=\"text/css\">\n",
       "#T_99dc1_row0_col1 {\n",
       "  background-color: yellow;\n",
       "}\n",
       "</style>\n",
       "<table id=\"T_99dc1_\">\n",
       "  <thead>\n",
       "    <tr>\n",
       "      <th class=\"blank level0\" >&nbsp;</th>\n",
       "      <th class=\"col_heading level0 col0\" >Uncalibrated</th>\n",
       "      <th class=\"col_heading level0 col1\" >Histogram Binning</th>\n",
       "      <th class=\"col_heading level0 col2\" >Isotonic Regression</th>\n",
       "      <th class=\"col_heading level0 col3\" >Temperature Scaling</th>\n",
       "      <th class=\"col_heading level0 col4\" >Beta Calibration</th>\n",
       "      <th class=\"col_heading level0 col5\" >BC am</th>\n",
       "      <th class=\"col_heading level0 col6\" >BC ab</th>\n",
       "    </tr>\n",
       "    <tr>\n",
       "      <th class=\"index_name level0\" >Name</th>\n",
       "      <th class=\"blank col0\" >&nbsp;</th>\n",
       "      <th class=\"blank col1\" >&nbsp;</th>\n",
       "      <th class=\"blank col2\" >&nbsp;</th>\n",
       "      <th class=\"blank col3\" >&nbsp;</th>\n",
       "      <th class=\"blank col4\" >&nbsp;</th>\n",
       "      <th class=\"blank col5\" >&nbsp;</th>\n",
       "      <th class=\"blank col6\" >&nbsp;</th>\n",
       "    </tr>\n",
       "  </thead>\n",
       "  <tbody>\n",
       "    <tr>\n",
       "      <th id=\"T_99dc1_level0_row0\" class=\"row_heading level0 row0\" >defect-plbart_c10</th>\n",
       "      <td id=\"T_99dc1_row0_col0\" class=\"data row0 col0\" >0.413034</td>\n",
       "      <td id=\"T_99dc1_row0_col1\" class=\"data row0 col1\" >0.336918</td>\n",
       "      <td id=\"T_99dc1_row0_col2\" class=\"data row0 col2\" >0.338062</td>\n",
       "      <td id=\"T_99dc1_row0_col3\" class=\"data row0 col3\" >0.339320</td>\n",
       "      <td id=\"T_99dc1_row0_col4\" class=\"data row0 col4\" >0.337125</td>\n",
       "      <td id=\"T_99dc1_row0_col5\" class=\"data row0 col5\" >0.337137</td>\n",
       "      <td id=\"T_99dc1_row0_col6\" class=\"data row0 col6\" >0.339169</td>\n",
       "    </tr>\n",
       "  </tbody>\n",
       "</table>\n"
      ],
      "text/plain": [
       "<pandas.io.formats.style.Styler at 0x7f00dbeed9d0>"
      ]
     },
     "execution_count": 55,
     "metadata": {},
     "output_type": "execute_result"
    }
   ],
   "source": [
    "df_brier.style.apply(highlight_min, axis = 1)"
   ]
  },
  {
   "cell_type": "code",
   "execution_count": null,
   "metadata": {
    "collapsed": true
   },
   "outputs": [],
   "source": []
  }
 ],
 "metadata": {
  "kernelspec": {
   "display_name": "Python 3.6.9 64-bit",
   "language": "python",
   "name": "python3"
  },
  "language_info": {
   "codemirror_mode": {
    "name": "ipython",
    "version": 3
   },
   "file_extension": ".py",
   "mimetype": "text/x-python",
   "name": "python",
   "nbconvert_exporter": "python",
   "pygments_lexer": "ipython3",
   "version": "3.6.9"
  },
  "vscode": {
   "interpreter": {
    "hash": "31f2aee4e71d21fbe5cf8b01ff0e069b9275f58929596ceb00d14d90e3e16cd6"
   }
  }
 },
 "nbformat": 4,
 "nbformat_minor": 2
}
